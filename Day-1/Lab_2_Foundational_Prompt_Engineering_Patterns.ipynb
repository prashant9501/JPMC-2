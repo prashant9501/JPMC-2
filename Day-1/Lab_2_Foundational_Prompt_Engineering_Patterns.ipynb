{
  "cells": [
    {
      "cell_type": "markdown",
      "source": [
        "-----\n",
        "\n",
        "### **Course: Advanced Prompt Engineering for Banking**\n",
        "\n",
        "### **Lab 2: Foundational Prompt Engineering Patterns**\n",
        "\n",
        "**Objective:** This lab introduces the fundamental patterns of prompt engineering. You will learn how to shape the model's response by assigning a **persona**, providing examples (**N-shot prompting**), guiding its focus (**directional stimulus**), and enforcing a specific output structure (**template pattern**). These are the building blocks for creating reliable AI solutions in banking.\n",
        "\n",
        "-----\n",
        "### Created By: Prashant Sahu\n",
        "[Connect with me on LinkedIn](https://www.linkedin.com/in/prashantksahu/)\n",
        "\n",
        "-----\n",
        "-----\n",
        "</br>\n",
        "\n",
        "### **Setup**\n",
        "\n",
        "First, let's set up our Python environment. This code block will initialize the `gpt-4o-mini` model and a helper function to run our prompts and display the results."
      ],
      "metadata": {
        "id": "i3o6_YkpCzXL"
      }
    },
    {
      "cell_type": "code",
      "source": [
        "import os\n",
        "from dotenv import load_dotenv\n",
        "from langchain_openai import ChatOpenAI\n",
        "from langchain.prompts import ChatPromptTemplate\n",
        "from langchain.schema.output_parser import StrOutputParser\n",
        "\n",
        "# Load environment variables from a .env file\n",
        "load_dotenv()\n",
        "\n",
        "# Initialize the model\n",
        "llm = ChatOpenAI(model=\"gpt-4o-mini\", temperature=0.1)\n",
        "\n",
        "# Helper function to execute prompts and print results\n",
        "def execute_prompt(prompt_template, title, **kwargs):\n",
        "    \"\"\"\n",
        "    Executes a given prompt template and prints the output neatly.\n",
        "    \"\"\"\n",
        "    print(f\"--- {title} ---\")\n",
        "\n",
        "    prompt = ChatPromptTemplate.from_template(prompt_template)\n",
        "    chain = prompt | llm | StrOutputParser()\n",
        "\n",
        "    print(\"PROMPT:\")\n",
        "    print(prompt.format(**kwargs))\n",
        "\n",
        "    response = chain.invoke(kwargs)\n",
        "\n",
        "    print(\"\\n\" + \"=\"*20 + \" RESPONSE \" + \"=\"*20 + \"\\n\")\n",
        "    print(response)\n",
        "    print(\"\\n\" + \"-\"*50 + \"\\n\")"
      ],
      "outputs": [],
      "execution_count": 4,
      "metadata": {
        "id": "-b4myrggCzXO"
      }
    },
    {
      "cell_type": "markdown",
      "source": [
        "-----\n",
        "\n",
        "### **1. The Persona Pattern**\n",
        "\n",
        "**Background:** The **Persona Pattern** involves instructing the LLM to \"act as\" a specific role or character. This is one of the most effective ways to control the tone, style, and expertise level of the response. Assigning a persona primes the model to generate content that aligns with the assumed role's knowledge and communication style. 🎭\n",
        "\n",
        "**Scenario:** A bank needs to draft a marketing email to a high-net-worth individual (HNI) about a new, exclusive investment fund. The tone must be professional, confident, and sophisticated."
      ],
      "metadata": {
        "id": "-MWI_3bMCzXP"
      }
    },
    {
      "cell_type": "code",
      "source": [
        "fund_details = \"\"\"\n",
        "- Fund Name: \"Apex Global Growth Fund\"\n",
        "- Strategy: Invests in high-growth international technology and healthcare equities.\n",
        "- Target Audience: Sophisticated investors with a high risk appetite.\n",
        "- Minimum Investment: ₹1 Crore.\n",
        "\"\"\""
      ],
      "outputs": [],
      "execution_count": 5,
      "metadata": {
        "id": "90LvtJD9CzXP"
      }
    },
    {
      "cell_type": "markdown",
      "source": [
        "#### **Naive Prompt 👎**\n",
        "\n",
        "Without a persona, the model's tone is generic and lacks the authority required for the target audience."
      ],
      "metadata": {
        "id": "ayEePbUoCzXQ"
      }
    },
    {
      "cell_type": "code",
      "source": [
        "naive_persona_prompt = \"Write an email about a new investment fund with these details:\\n\\n{details}\"\n",
        "\n",
        "execute_prompt(\n",
        "    naive_persona_prompt,\n",
        "    \"1.1 Naive Email Draft\",\n",
        "    details=fund_details\n",
        ")"
      ],
      "outputs": [
        {
          "output_type": "stream",
          "name": "stdout",
          "text": [
            "--- 1.1 Naive Email Draft ---\n",
            "PROMPT:\n",
            "Human: Write an email about a new investment fund with these details:\n",
            "\n",
            "\n",
            "- Fund Name: \"Apex Global Growth Fund\"\n",
            "- Strategy: Invests in high-growth international technology and healthcare equities.\n",
            "- Target Audience: Sophisticated investors with a high risk appetite.\n",
            "- Minimum Investment: ₹1 Crore.\n",
            "\n",
            "\n",
            "==================== RESPONSE ====================\n",
            "\n",
            "Subject: Introducing the Apex Global Growth Fund – Your Gateway to High-Growth Opportunities\n",
            "\n",
            "Dear [Recipient's Name],\n",
            "\n",
            "I hope this message finds you well. We are excited to announce the launch of our new investment vehicle, the **Apex Global Growth Fund**, designed specifically for sophisticated investors like you who are seeking to capitalize on high-growth opportunities in the international markets.\n",
            "\n",
            "**Fund Overview:**\n",
            "The Apex Global Growth Fund focuses on investing in high-growth equities within the technology and healthcare sectors across the globe. Our strategy is to identify and invest in companies that are poised for significant expansion, leveraging innovative technologies and transformative healthcare solutions. \n",
            "\n",
            "**Key Highlights:**\n",
            "- **Investment Strategy:** Targeting high-growth international technology and healthcare equities.\n",
            "- **Target Audience:** Designed for sophisticated investors with a high risk appetite who are looking to diversify their portfolios and maximize returns.\n",
            "- **Minimum Investment:** The fund requires a minimum investment of ₹1 Crore, ensuring that our investors are committed to the growth journey.\n",
            "\n",
            "As we navigate an ever-evolving global landscape, we believe that the technology and healthcare sectors will continue to drive innovation and growth. The Apex Global Growth Fund aims to provide you with the opportunity to be part of this exciting journey.\n",
            "\n",
            "We would be delighted to discuss this opportunity further and answer any questions you may have. Please feel free to reach out to us at your convenience to schedule a meeting.\n",
            "\n",
            "Thank you for considering the Apex Global Growth Fund as part of your investment strategy. We look forward to the possibility of partnering with you on this exciting venture.\n",
            "\n",
            "Warm regards,\n",
            "\n",
            "[Your Name]  \n",
            "[Your Position]  \n",
            "[Your Company]  \n",
            "[Your Contact Information]  \n",
            "[Your Company Website]  \n",
            "\n",
            "--------------------------------------------------\n",
            "\n"
          ]
        }
      ],
      "execution_count": 6,
      "metadata": {
        "id": "iPFD09OfCzXQ",
        "colab": {
          "base_uri": "https://localhost:8080/"
        },
        "outputId": "e25027ef-a8f3-4239-deb1-cbaaf05ffb05"
      }
    },
    {
      "cell_type": "markdown",
      "source": [
        "*Critique:* This is dry, unprofessional, and fails to convey exclusivity or expertise. It would not appeal to a sophisticated investor.\n",
        "\n",
        "#### **Persona Pattern Prompt 👍**\n",
        "\n",
        "By assigning the persona of a **\"Senior Wealth Manager,\"** we instruct the model to adopt a suitable tone and frame the message appropriately."
      ],
      "metadata": {
        "id": "_WYJ7lWcCzXQ"
      }
    },
    {
      "cell_type": "code",
      "source": [
        "persona_prompt = \"\"\"\n",
        "Act as a Senior Wealth Manager at a prestigious private bank. Your task is to draft a personalized email to a long-standing, high-net-worth client.\n",
        "\n",
        "The email should be sophisticated, concise, and compelling. Introduce the new fund and suggest a brief meeting to discuss how it aligns with their portfolio goals.\n",
        "\n",
        "Use the following fund details:\n",
        "{details}\n",
        "\"\"\"\n",
        "\n",
        "execute_prompt(\n",
        "    persona_prompt,\n",
        "    \"1.2 Persona-Driven Email Draft\",\n",
        "    details=fund_details\n",
        ")"
      ],
      "outputs": [
        {
          "output_type": "stream",
          "name": "stdout",
          "text": [
            "--- 1.2 Persona-Driven Email Draft ---\n",
            "PROMPT:\n",
            "Human: \n",
            "Act as a Senior Wealth Manager at a prestigious private bank. Your task is to draft a personalized email to a long-standing, high-net-worth client.\n",
            "\n",
            "The email should be sophisticated, concise, and compelling. Introduce the new fund and suggest a brief meeting to discuss how it aligns with their portfolio goals.\n",
            "\n",
            "Use the following fund details:\n",
            "\n",
            "- Fund Name: \"Apex Global Growth Fund\"\n",
            "- Strategy: Invests in high-growth international technology and healthcare equities.\n",
            "- Target Audience: Sophisticated investors with a high risk appetite.\n",
            "- Minimum Investment: ₹1 Crore.\n",
            "\n",
            "\n",
            "\n",
            "==================== RESPONSE ====================\n",
            "\n",
            "Subject: Introducing the Apex Global Growth Fund\n",
            "\n",
            "Dear [Client's Name],\n",
            "\n",
            "I hope this message finds you well. As we continue to navigate the evolving investment landscape, I am excited to introduce you to an exceptional opportunity that aligns with your portfolio goals: the **Apex Global Growth Fund**.\n",
            "\n",
            "This fund is strategically designed to invest in high-growth international technology and healthcare equities, sectors that are poised for significant expansion in the coming years. With a focus on sophisticated investors who possess a high risk appetite, the Apex Global Growth Fund offers a minimum investment of ₹1 Crore, positioning it as a compelling addition to a forward-thinking portfolio.\n",
            "\n",
            "I believe this fund could complement your existing investments and enhance your growth potential. I would appreciate the opportunity to discuss how this aligns with your financial objectives and explore the potential benefits for your portfolio.\n",
            "\n",
            "Could we schedule a brief meeting at your convenience? I look forward to your thoughts.\n",
            "\n",
            "Warm regards,\n",
            "\n",
            "[Your Name]  \n",
            "Senior Wealth Manager  \n",
            "[Your Private Bank]  \n",
            "[Your Contact Information]  \n",
            "\n",
            "--------------------------------------------------\n",
            "\n"
          ]
        }
      ],
      "execution_count": 7,
      "metadata": {
        "id": "cHxhxLQqCzXQ",
        "colab": {
          "base_uri": "https://localhost:8080/"
        },
        "outputId": "03402895-f4cc-4807-f900-f71db571e8e5"
      }
    },
    {
      "cell_type": "markdown",
      "source": [
        "*Critique:* Excellent. The tone is professional, the language is sophisticated (\"investment vehicle,\" \"forward-thinking portfolio strategy\"), and the call-to-action is respectful of the client's time.\n",
        "\n",
        "-----\n",
        "\n",
        "### **2. The N-Shot Prompting Pattern**\n",
        "\n",
        "**Background:** This pattern involves providing the model with examples (\"shots\") to guide its output.\n",
        "\n",
        "  * **Zero-Shot:** You provide no examples, just the instruction. This works for simple, well-defined tasks.\n",
        "  * **Few-Shot:** You provide a few examples of input and desired output. This is powerful for teaching the model a specific format, structure, or nuanced classification.\n",
        "\n",
        "#### **2.1 Zero-Shot Use Case: Customer Request Classification**\n",
        "\n",
        "**Scenario:** A banking chatbot receives an incoming customer message. It needs to classify the message into a predefined category for routing to the correct department."
      ],
      "metadata": {
        "id": "sfzPkdf7CzXR"
      }
    },
    {
      "cell_type": "code",
      "source": [
        "customer_message = \"Hi, my credit card was charged twice for a purchase I made at BigBasket yesterday. Can you please help me fix this?\""
      ],
      "outputs": [],
      "execution_count": null,
      "metadata": {
        "id": "aws9u-ZHCzXR"
      }
    },
    {
      "cell_type": "markdown",
      "source": [
        "**Improved Zero-Shot Prompt 👍**\n",
        "We don't need examples here because the task is a straightforward classification. We just need to give clear instructions and the list of valid categories."
      ],
      "metadata": {
        "id": "FfZCuNM2CzXR"
      }
    },
    {
      "cell_type": "code",
      "source": [
        "zeroshot_prompt = \"\"\"\n",
        "You are a classification bot. Classify the following customer message into one of these categories:\n",
        "- Account Inquiry\n",
        "- Card Dispute\n",
        "- Loan Application\n",
        "- Technical Support\n",
        "\n",
        "Return only the category name.\n",
        "\n",
        "Message: \"{message}\"\n",
        "\"\"\"\n",
        "\n",
        "# execute_prompt(\n",
        "#     zeroshot_prompt,\n",
        "#     \"2.1 Zero-Shot Classification\",\n",
        "#     message=customer_message\n",
        "# )"
      ],
      "outputs": [],
      "execution_count": null,
      "metadata": {
        "id": "Fatj9DzkCzXR"
      }
    },
    {
      "cell_type": "markdown",
      "source": [
        "*Critique:* This is a perfect use of zero-shot prompting. The task is clear, and the model can easily perform it without needing examples.\n",
        "\n",
        "#### **2.2 Few-Shot Use Case: Structuring Trade Data**\n",
        "\n",
        "**Scenario:** A system needs to parse unstructured text from a trader's chat message and convert it into a structured format for the order management system. The format must be exact."
      ],
      "metadata": {
        "id": "KZNojmFLCzXR"
      }
    },
    {
      "cell_type": "code",
      "source": [
        "trader_chat = \"we need to buy 5000 shares of RELIANCE at market price asap\""
      ],
      "outputs": [],
      "execution_count": null,
      "metadata": {
        "id": "t4ZUVTAeCzXR"
      }
    },
    {
      "cell_type": "markdown",
      "source": [
        "#### **Naive Prompt 👎**\n",
        "\n",
        "A naive prompt will result in an unpredictable structure. The keys and values might change with every run."
      ],
      "metadata": {
        "id": "2dSvFOltCzXR"
      }
    },
    {
      "cell_type": "code",
      "source": [
        "naive_fewshot_prompt = \"Extract the details from this trade message: {message}\"\n",
        "\n",
        "# execute_prompt(\n",
        "#     naive_fewshot_prompt,\n",
        "#     \"2.2 Naive Trade Extraction\",\n",
        "#     message=trader_chat\n",
        "# )"
      ],
      "outputs": [],
      "execution_count": null,
      "metadata": {
        "id": "8xxd92rxCzXR"
      }
    },
    {
      "cell_type": "markdown",
      "source": [
        "*Critique:* This is just a string, not a machine-readable format. It's also missing a key for the price.\n",
        "\n",
        "#### **Few-Shot Pattern Prompt 👍**\n",
        "\n",
        "We provide a clear example to teach the model the **exact output format** we need."
      ],
      "metadata": {
        "id": "izOZnCCbCzXR"
      }
    },
    {
      "cell_type": "code",
      "source": [
        "fewshot_prompt = \"\"\"\n",
        "You are an AI that converts unstructured trader chat messages into a structured string. Follow the format of the example precisely.\n",
        "\n",
        "---\n",
        "**Example:**\n",
        "Message: \"sell 200 INFY limit 1500\"\n",
        "Output: \"ACTION:SELL|TICKER:INFY|QUANTITY:200|PRICE:1500.00\"\n",
        "---\n",
        "\n",
        "**New Message:**\n",
        "Message: \"{message}\"\n",
        "Output:\n",
        "\"\"\"\n",
        "\n",
        "# execute_prompt(\n",
        "#     fewshot_prompt,\n",
        "#     \"2.3 Few-Shot Trade Extraction\",\n",
        "#     message=trader_chat\n",
        "# )"
      ],
      "outputs": [],
      "execution_count": null,
      "metadata": {
        "id": "JxU7h43oCzXR"
      }
    },
    {
      "cell_type": "markdown",
      "source": [
        "*Critique:* Perfect. The few-shot example forced the model to produce an output that is structured, consistent, and ready for a downstream system to parse.\n",
        "\n",
        "-----\n",
        "\n",
        "### **3. The Directional Stimulus Pattern**\n",
        "\n",
        "**Background:** This pattern guides the LLM to focus on specific aspects of a large piece of text. Instead of a generic summary, you provide \"hints\" or \"directions\" to tailor the output to your specific needs. 🎯\n",
        "\n",
        "**Scenario:** A busy loan officer needs to quickly understand the key risks in a lengthy business credit report. They don't need a full summary, only the negative points."
      ],
      "metadata": {
        "id": "LVrB5dovCzXS"
      }
    },
    {
      "cell_type": "code",
      "source": [
        "credit_report_excerpt = \"\"\"\n",
        "Business 'Future Gadgets Ltd.' has shown consistent revenue growth of 15% YoY. Their cash flow is positive, and they hold significant assets. However, their debt-to-equity ratio is high at 2.5, and the report notes two recent late payments to major suppliers. The market outlook for their sector is stable, but dependent on volatile international supply chains.\n",
        "\"\"\""
      ],
      "outputs": [],
      "execution_count": null,
      "metadata": {
        "id": "ueSeUDRrCzXS"
      }
    },
    {
      "cell_type": "markdown",
      "source": [
        "#### **Naive Prompt 👎**\n",
        "\n",
        "A generic summary will include positive points, forcing the officer to read through extra information."
      ],
      "metadata": {
        "id": "X-LhX3cmCzXS"
      }
    },
    {
      "cell_type": "code",
      "source": [
        "naive_directional_prompt = \"Summarize this credit report excerpt:\\n\\n{report}\"\n",
        "\n",
        "# execute_prompt(\n",
        "#     naive_directional_prompt,\n",
        "#     \"3.1 Naive Report Summary\",\n",
        "#     report=credit_report_excerpt\n",
        "# )"
      ],
      "outputs": [],
      "execution_count": null,
      "metadata": {
        "id": "5V8M8hGiCzXS"
      }
    },
    {
      "cell_type": "markdown",
      "source": [
        "*Critique:* The summary is accurate but mixes positive and negative points.\n",
        "\n",
        "#### **Directional Stimulus Prompt 👍**\n",
        "\n",
        "We give the model a clear \"hint\" to focus *only* on the risk factors."
      ],
      "metadata": {
        "id": "MhffsYdlCzXS"
      }
    },
    {
      "cell_type": "code",
      "source": [
        "directional_prompt = \"\"\"\n",
        "Summarize the following credit report excerpt in 2-3 bullet points.\n",
        "\n",
        "Hint: Focus exclusively on the negative points and potential risk factors mentioned in the report.\n",
        "\n",
        "Report:\n",
        "{report}\n",
        "\"\"\"\n",
        "\n",
        "# execute_prompt(\n",
        "#     directional_prompt,\n",
        "#     \"3.2 Directional Risk Summary\",\n",
        "#     report=credit_report_excerpt\n",
        "# )"
      ],
      "outputs": [],
      "execution_count": null,
      "metadata": {
        "id": "299i8m0hCzXS"
      }
    },
    {
      "cell_type": "markdown",
      "source": [
        "*Critique:* This is much more effective. It provides the loan officer with a concise, focused list of the exact information they need, saving them time and improving efficiency.\n",
        "\n",
        "-----\n",
        "\n",
        "### **4. The Template & Meta Language Pattern**\n",
        "\n",
        "**Background:** This powerful pattern involves defining a strict structure or a custom \"language\" for the model's output. By providing a template, you force the LLM to populate its response within your predefined format, making the output predictable and machine-readable. This is essential for JSON, XML, or other structured data needs. 📝\n",
        "\n",
        "**Scenario:** A bank needs to generate a standardized risk assessment for a credit card application in a JSON format that can be logged directly into their system."
      ],
      "metadata": {
        "id": "dq0ubNstCzXS"
      }
    },
    {
      "cell_type": "code",
      "source": [
        "applicant_data = \"\"\"\n",
        "- Name: Rahul Verma\n",
        "- Age: 28\n",
        "- Annual Income: ₹8,00,000\n",
        "- CIBIL Score: 760\n",
        "- Existing Debt: ₹1,50,000 (Personal Loan)\n",
        "\"\"\""
      ],
      "outputs": [],
      "execution_count": null,
      "metadata": {
        "id": "4F6FAzixCzXS"
      }
    },
    {
      "cell_type": "markdown",
      "source": [
        "#### **Naive Prompt 👎**\n",
        "\n",
        "Without a strict template, the model will generate JSON, but the structure, keys, and value types will be inconsistent."
      ],
      "metadata": {
        "id": "P9CIDOJ_CzXS"
      }
    },
    {
      "cell_type": "code",
      "source": [
        "naive_template_prompt = \"Create a JSON risk summary for this credit card applicant:\\n\\n{data}\"\n",
        "\n",
        "# execute_prompt(\n",
        "#     naive_template_prompt,\n",
        "#     \"4.1 Naive JSON Generation\",\n",
        "#     data=applicant_data\n",
        "# )"
      ],
      "outputs": [],
      "execution_count": null,
      "metadata": {
        "id": "-xZ2Dn-DCzXS"
      }
    },
    {
      "cell_type": "markdown",
      "source": [
        "*Critique:* The keys (`applicant`, `income`, `risk`) are arbitrary, and the `risk` value is a subjective string, not a standardized category.\n",
        "\n",
        "#### **Template Pattern Prompt 👍**\n",
        "\n",
        "We define a \"meta language\" by specifying the exact keys and the allowed values for certain fields, ensuring a perfectly structured output."
      ],
      "metadata": {
        "id": "bbjBGI9eCzXS"
      }
    },
    {
      "cell_type": "code",
      "source": [
        "template_prompt = \"\"\"\n",
        "Act as a risk assessment bot. Generate a JSON summary for the following credit card applicant.\n",
        "\n",
        "The output must be a valid JSON object that strictly follows this template:\n",
        "- \"applicantId\": string (use applicant's name)\n",
        "- \"cibilScore\": integer\n",
        "- \"incomeToDebtRatio\": float (calculate as Annual Income / Existing Debt)\n",
        "- \"riskLevel\": string (must be one of the following: \"Low\", \"Medium\", \"High\")\n",
        "- \"isApproved\": boolean (approve if score > 750 and incomeToDebtRatio > 5)\n",
        "\n",
        "Applicant Data:\n",
        "{data}\n",
        "\"\"\"\n",
        "\n",
        "# execute_prompt(\n",
        "#     template_prompt,\n",
        "#     \"4.2 Template-Driven JSON Generation\",\n",
        "#     data=applicant_data\n",
        "# )"
      ],
      "outputs": [],
      "execution_count": null,
      "metadata": {
        "id": "c0DKJFhnCzXT"
      }
    },
    {
      "cell_type": "markdown",
      "source": [
        "*Critique:* This is perfect. The JSON is clean, follows the exact schema, performs a calculation as instructed, and uses a standardized value for `riskLevel`. This output can be reliably processed by another program."
      ],
      "metadata": {
        "id": "QE2OAkZeCzXT"
      }
    },
    {
      "cell_type": "code",
      "source": [],
      "metadata": {
        "id": "8XpkzddOyieO"
      },
      "execution_count": null,
      "outputs": []
    }
  ],
  "metadata": {
    "colab": {
      "provenance": []
    },
    "kernelspec": {
      "display_name": "Python 3",
      "name": "python3"
    }
  },
  "nbformat": 4,
  "nbformat_minor": 0
}