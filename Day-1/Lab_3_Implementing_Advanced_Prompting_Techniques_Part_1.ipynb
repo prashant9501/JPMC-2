{
  "cells": [
    {
      "cell_type": "markdown",
      "source": [
        "### **Course: Advanced Prompt Engineering for Banking**\n",
        "\n",
        "### **Lab 3: Implementing Advanced Prompting Techniques**\n",
        "\n",
        "**Objective:** This lab moves beyond basic prompt construction to powerful techniques that enhance the reasoning, accuracy, and reliability of Large Language Models (LLMs). You will learn and apply **Zero-Shot**, **Few-Shot**, **Chain-of-Thought (CoT)**, and **Tree-of-Thought (ToT)** prompting to solve complex banking problems.\n",
        "\n",
        "**Tools:**\n",
        "\n",
        "  * **LangChain**\n",
        "  * **OpenAI GPT-4o Mini**\n",
        "\n",
        "-----\n",
        "### Created By: Prashant Sahu\n",
        "[Connect with me on LinkedIn](https://www.linkedin.com/in/prashantksahu/)\n",
        "\n",
        "-----\n",
        "-----\n",
        "</br>\n",
        "\n",
        "\n",
        "### **Setup**\n",
        "\n",
        "Ensure your environment is ready. You will need the same setup as Lab 1.\n",
        "\n",
        "**.env file:**\n",
        "\n",
        "```\n",
        "OPENAI_API_KEY=\"your_api_key_here\"\n",
        "```\n"
      ],
      "metadata": {
        "id": "mmkh5Ba4L27Z"
      }
    },
    {
      "cell_type": "code",
      "source": [
        "import os\n",
        "from dotenv import load_dotenv\n",
        "from langchain_openai import ChatOpenAI\n",
        "from langchain.prompts import ChatPromptTemplate\n",
        "from langchain.schema.output_parser import StrOutputParser\n",
        "\n",
        "# Load environment variables\n",
        "load_dotenv()\n",
        "\n",
        "# Initialize the model (we use a slightly higher temperature for more creative/reasoning tasks)\n",
        "llm = ChatOpenAI(model=\"gpt-4o-mini\", temperature=0.3)\n",
        "\n",
        "# Helper function to print results neatly\n",
        "def execute_prompt(prompt_template, title, **kwargs):\n",
        "    \"\"\"\n",
        "    Executes a given prompt template with context variables and prints the output.\n",
        "    \"\"\"\n",
        "    print(f\"--- {title} ---\")\n",
        "\n",
        "    # Create the prompt using the template and input variables\n",
        "    prompt = ChatPromptTemplate.from_template(prompt_template)\n",
        "\n",
        "    # Create the chain\n",
        "    chain = prompt | llm | StrOutputParser()\n",
        "\n",
        "    # Invoke the chain with the provided context\n",
        "    response = chain.invoke(kwargs)\n",
        "\n",
        "    print(\"PROMPT:\")\n",
        "    print(prompt.format(**kwargs))\n",
        "    print(\"\\n\" + \"=\"*20 + \" RESPONSE \" + \"=\"*20 + \"\\n\")\n",
        "    print(response)\n",
        "    print(\"\\n\" + \"-\"*50 + \"\\n\")"
      ],
      "outputs": [],
      "execution_count": null,
      "metadata": {
        "id": "aqC24-6mL27b"
      }
    },
    {
      "cell_type": "markdown",
      "source": [
        "-----\n",
        "\n",
        "## **1. Zero-Shot Prompting: Instructing Without Examples**\n",
        "\n",
        "### **Background**\n",
        "\n",
        "**Zero-shot prompting** is the most fundamental technique. It involves asking the model to perform a task for which it has received no specific, in-prompt examples. The model relies entirely on its pre-existing knowledge to understand the instruction and generate a response.\n",
        "\n",
        "  * **How it works:** You give a direct command. For example, \"Translate this text to French.\" The model has seen countless translation tasks during its training and knows what to do.\n",
        "  * **Strengths:** Simple, fast, and effective for straightforward tasks that fall within the model's general capabilities (e.g., summarization, general classification, simple Q\\&A).\n",
        "  * **Weaknesses:** It can struggle with novel, highly specific, or nuanced tasks where the desired output format or logic is not obvious.\n",
        "  * **Banking Use Cases:** Initial customer feedback analysis, categorizing support tickets into broad topics, drafting simple emails, identifying the general intent of a customer query.\n",
        "\n",
        "### **Use Case 1.1: Sentiment Analysis of Bank Feedback**\n",
        "\n",
        "**Scenario:** A bank's automated system collects feedback from a customer after a service call. We need to classify the sentiment.\n",
        "\n",
        "#### **Naive Prompt 👎**\n",
        "\n",
        "This prompt is too simple and gives the model no guidance on the output format or classification scheme."
      ],
      "metadata": {
        "id": "wch6PjJjL27c"
      }
    },
    {
      "cell_type": "code",
      "source": [
        "customer_feedback_1 = \"The mobile app is really slow to load my account balance, and it crashed twice yesterday. I'm very frustrated.\"\n",
        "\n",
        "naive_prompt_1 = \"{feedback}\"\n",
        "\n",
        "# execute_prompt(\n",
        "#     naive_prompt_1,\n",
        "#     \"1.1 Naive Sentiment Analysis\",\n",
        "#     feedback=customer_feedback_1\n",
        "# )"
      ],
      "outputs": [],
      "execution_count": null,
      "metadata": {
        "id": "-GFnF_KCL27d"
      }
    },
    {
      "cell_type": "markdown",
      "source": [
        "**Expected Response:**\n",
        "The response will be a verbose rephrasing of the feedback, not a clean classification.\n",
        "\n",
        "#### **Improved Zero-Shot Prompt 👍**\n",
        "\n",
        "This prompt gives a clear **role**, **task**, and **strict output constraints**, guiding the model to perform a classification task accurately."
      ],
      "metadata": {
        "id": "J1S4oBJPL27d"
      }
    },
    {
      "cell_type": "code",
      "source": [
        "customer_feedback_1 = \"The mobile app is really slow to load my account balance, and it crashed twice yesterday. I'm very frustrated.\"\n",
        "\n",
        "zeroshot_prompt_1 = \"\"\"\n",
        "You are a sentiment analysis AI for a major bank. Your task is to classify customer feedback into one of three categories: Positive, Negative, or Neutral.\n",
        "\n",
        "Analyze the following feedback and provide only the category name as the output.\n",
        "\n",
        "Feedback: \"{feedback}\"\n",
        "\"\"\"\n",
        "\n",
        "# execute_prompt(\n",
        "#     zeroshot_prompt_1,\n",
        "#     \"1.1 Improved Zero-Shot Sentiment Analysis\",\n",
        "#     feedback=customer_feedback_1\n",
        "# )"
      ],
      "outputs": [],
      "execution_count": null,
      "metadata": {
        "id": "2yPiEdTLL27d"
      }
    },
    {
      "cell_type": "markdown",
      "source": [
        "-----\n",
        "\n",
        "### **Use Case 1.2: Identifying Customer Intent**\n",
        "\n",
        "**Scenario:** A chatbot needs to understand why a customer is messaging to route them to the correct department.\n",
        "\n",
        "#### **Naive Prompt 👎**\n",
        "\n",
        "This prompt is a vague question that will lead to a conversational and unstructured answer."
      ],
      "metadata": {
        "id": "6SwMnMxvL27d"
      }
    },
    {
      "cell_type": "code",
      "source": [
        "customer_query_1 = \"Hi, I can't seem to find my last month's credit card statement in the app.\"\n",
        "\n",
        "naive_prompt_2 = \"What does this customer want to do? Query: {query}\"\n",
        "\n",
        "# execute_prompt(\n",
        "#     naive_prompt_2,\n",
        "#     \"1.2 Naive Intent Recognition\",\n",
        "#     query=customer_query_1\n",
        "# )"
      ],
      "outputs": [],
      "execution_count": null,
      "metadata": {
        "id": "SRfjNIN_L27d"
      }
    },
    {
      "cell_type": "markdown",
      "source": [
        "#### **Improved Zero-Shot Prompt 👍**\n",
        "\n",
        "This prompt defines a set of valid intents, forcing the model to classify the query into a predefined category suitable for automated routing."
      ],
      "metadata": {
        "id": "BtX0nUWOL27d"
      }
    },
    {
      "cell_type": "code",
      "source": [
        "customer_query_1 = \"Hi, I can't seem to find my last month's credit card statement in the app.\"\n",
        "\n",
        "zeroshot_prompt_2 = \"\"\"\n",
        "You are an intent recognition model for a banking chatbot. Classify the user's query into one of the following predefined categories:\n",
        "- Card Services\n",
        "- Account Inquiry\n",
        "- Loan Application\n",
        "- Technical Support\n",
        "- General Question\n",
        "\n",
        "User Query: \"{query}\"\n",
        "\n",
        "Return only the category name.\n",
        "\"\"\"\n",
        "\n",
        "# execute_prompt(\n",
        "#     zeroshot_prompt_2,\n",
        "#     \"1.2 Improved Zero-Shot Intent Recognition\",\n",
        "#     query=customer_query_1\n",
        "# )"
      ],
      "outputs": [],
      "execution_count": null,
      "metadata": {
        "id": "TA8x0PbRL27d"
      }
    },
    {
      "cell_type": "markdown",
      "source": [
        "-----\n",
        "\n",
        "## **2. Few-Shot Prompting: Learning from Examples**\n",
        "\n",
        "### **Background**\n",
        "\n",
        "**Few-shot prompting** involves providing the LLM with a few examples (\"shots\") of the task you want it to perform directly within the prompt. This helps the model understand the desired pattern, format, and nuances.\n",
        "\n",
        "  * **How it works:** You show the model input-output pairs. For instance, `Input: Sea otter -> Output: Enhydra lutris. Input: Manatee -> Output: Trichechus. Input: Blue whale -> Output:`. The model learns the pattern (common name to scientific name) and completes it.\n",
        "  * **Strengths:** Extremely effective for tasks requiring a specific output structure (like JSON), a particular style, or classification into custom, non-obvious categories.\n",
        "  * **Weaknesses:** Requires crafting high-quality examples, and makes the prompt longer and more expensive to process.\n",
        "  * **Banking Use Cases:** Extracting specific data from unstructured documents (KYC, invoices), categorizing transactions into bank-specific buckets, formatting data for API calls, drafting communications that match a brand's voice.\n",
        "\n",
        "### **Use Case 2.1: Custom Transaction Categorization**\n",
        "\n",
        "**Scenario:** A bank's personal finance management tool needs to categorize transactions based on its own unique category list.\n",
        "\n",
        "#### **Naive Prompt 👎**\n",
        "\n",
        "The model will use its own general knowledge of categories, which won't match the bank's internal system."
      ],
      "metadata": {
        "id": "6K8kQgtVL27e"
      }
    },
    {
      "cell_type": "code",
      "source": [
        "transaction_description_1 = \"ZOMATO-FOOD-DELIVERY GURGAON\"\n",
        "\n",
        "naive_prompt_3 = \"Categorize this transaction: '{transaction}'\"\n",
        "\n",
        "# execute_prompt(\n",
        "#     naive_prompt_3,\n",
        "#     \"2.1 Naive Transaction Categorization\",\n",
        "#     transaction=transaction_description_1\n",
        "# )"
      ],
      "outputs": [],
      "execution_count": null,
      "metadata": {
        "id": "wM3lyCm0L27e"
      }
    },
    {
      "cell_type": "markdown",
      "source": [
        "This is a good guess, but it may not match our internal category `Food & Entertainment`.\n",
        "\n",
        "#### **Few-Shot Prompt 👍**\n",
        "\n",
        "By providing examples, we teach the model our exact categorization schema."
      ],
      "metadata": {
        "id": "AVEk9kdcL27e"
      }
    },
    {
      "cell_type": "code",
      "source": [
        "transaction_description_1 = \"ZOMATO-FOOD-DELIVERY GURGAON\"\n",
        "\n",
        "fewshot_prompt_1 = \"\"\"\n",
        "You are a transaction categorization engine for a bank. Your goal is to classify transactions into one of the following categories: 'Utilities', 'Groceries', 'Travel', 'Food & Entertainment', 'Shopping', 'Miscellaneous'.\n",
        "\n",
        "Here are some examples:\n",
        "1. Transaction: \"AMAZON-PAY-ELECTRICITY\"\n",
        "   Category: Utilities\n",
        "2. Transaction: \"UBER-TRIP-MUMBAI-AIRPORT\"\n",
        "   Category: Travel\n",
        "3. Transaction: \"BIGBASKET-ONLINE-GROC\"\n",
        "   Category: Groceries\n",
        "\n",
        "Now, categorize the following transaction. Provide only the category name.\n",
        "\n",
        "Transaction: \"{transaction}\"\n",
        "Category:\n",
        "\"\"\"\n",
        "\n",
        "# execute_prompt(\n",
        "#     fewshot_prompt_1,\n",
        "#     \"2.1 Few-Shot Transaction Categorization\",\n",
        "#     transaction=transaction_description_1\n",
        "# )"
      ],
      "outputs": [],
      "execution_count": null,
      "metadata": {
        "id": "Sayaus20L27e"
      }
    },
    {
      "cell_type": "markdown",
      "source": [
        "### **Use Case 2.2: Extracting Structured Data from Text**\n",
        "\n",
        "**Scenario:** A wealth manager receives an email from a potential client. We need to extract key details into a structured JSON object for the CRM system.\n",
        "\n",
        "#### **Naive Prompt 👎**\n",
        "\n",
        "This will produce an unpredictable summary, not a clean, machine-readable object."
      ],
      "metadata": {
        "id": "oAAt0ENzL27e"
      }
    },
    {
      "cell_type": "code",
      "source": [
        "client_email_1 = \"Hi, my name is Rohan Gupta. I'm 42 years old and I'm interested in your wealth management services. My investment portfolio is currently around $500,000 and my risk tolerance is moderately aggressive. You can reach me at rohan.gupta@email.com.\"\n",
        "\n",
        "naive_prompt_4 = \"Extract the client details from this email: {email}\"\n",
        "\n",
        "# execute_prompt(\n",
        "#     naive_prompt_4,\n",
        "#     \"2.2 Naive Data Extraction\",\n",
        "#     email=client_email_1\n",
        "# )"
      ],
      "outputs": [],
      "execution_count": null,
      "metadata": {
        "id": "sb2DSNgrL27e"
      }
    },
    {
      "cell_type": "markdown",
      "source": [
        "#### **Few-Shot Prompt 👍**\n",
        "\n",
        "The example teaches the model the exact JSON schema we require."
      ],
      "metadata": {
        "id": "cG5i0M0SL27e"
      }
    },
    {
      "cell_type": "code",
      "source": [
        "client_email_1 = \"Hi, my name is Rohan Gupta. I'm 42 years old and I'm interested in your wealth management services. My investment portfolio is currently around $500,000 and my risk tolerance is moderately aggressive. You can reach me at rohan.gupta@email.com.\"\n",
        "\n",
        "fewshot_prompt_2 = \"\"\"\n",
        "You are a data extraction AI that converts unstructured client emails into structured JSON objects.\n",
        "\n",
        "---\n",
        "Example 1:\n",
        "Email: \"My name is Priya Singh, my risk appetite is conservative and my portfolio is $1.2M. I am 55.\"\n",
        "JSON:\n",
        "{{\n",
        "  \"name\": \"Priya Singh\",\n",
        "  \"age\": 55,\n",
        "  \"portfolio_value\": 1200000,\n",
        "  \"risk_profile\": \"Conservative\",\n",
        "  \"contact_email\": \"N/A\"\n",
        "}}\n",
        "---\n",
        "\n",
        "Now, process the following email and provide only the JSON object as output.\n",
        "\n",
        "Email: \"{email}\"\n",
        "JSON:\n",
        "\"\"\"\n",
        "\n",
        "# execute_prompt(\n",
        "#     fewshot_prompt_2,\n",
        "#     \"2.2 Few-Shot Data Extraction\",\n",
        "#     email=client_email_1\n",
        "# )"
      ],
      "outputs": [],
      "execution_count": null,
      "metadata": {
        "id": "JThHCObvL27e"
      }
    },
    {
      "cell_type": "markdown",
      "source": [
        "-----\n",
        "\n",
        "## **3. Chain-of-Thought (CoT) Prompting: Showing Your Work**\n",
        "\n",
        "### **Background**\n",
        "\n",
        "**Chain-of-Thought (CoT) prompting** is a technique that encourages the model to break down a complex problem into intermediate steps before giving a final answer. By simply adding phrases like \"Let's think step by step,\" you can significantly improve performance on tasks that require logic, reasoning, or calculation.\n",
        "\n",
        "  * **How it works:** Instead of jumping to a conclusion, the model first \"thinks\" out loud, detailing its reasoning process. This mimics how humans solve complex problems and often leads the model to a more accurate result.\n",
        "  * **Strengths:** Massively improves accuracy on arithmetic, commonsense, and symbolic reasoning tasks. The output is more transparent and auditable, as you can see *how* the model reached its conclusion.\n",
        "  * **Banking Use Cases:** Assessing loan eligibility based on multiple criteria, preliminary fraud analysis, calculating financial ratios, explaining complex financial products to customers, and checking compliance with internal policies.\n",
        "\n",
        "### **Use Case 3.1: Preliminary Fraud Alert Analysis**\n",
        "\n",
        "**Scenario:** A transaction is flagged for potential fraud. A junior analyst needs a summary explaining why it's suspicious.\n",
        "\n",
        "#### **Naive Prompt 👎**\n",
        "\n",
        "This prompt asks for a simple \"yes/no\" answer, which is not helpful and lacks any justification."
      ],
      "metadata": {
        "id": "wdKoGdsUL27f"
      }
    },
    {
      "cell_type": "code",
      "source": [
        "transaction_data_1 = \"\"\"\n",
        "- Customer: Anjali Rao\n",
        "- Usual Location: Bangalore, IN\n",
        "- Transaction Amount: ₹85,000\n",
        "- Transaction Location: Prague, CZ\n",
        "- Time: 3:15 AM IST\n",
        "- Merchant Category: Luxury Watches\n",
        "- Customer History: No prior international transactions. Average transaction value is ₹2,500.\n",
        "\"\"\"\n",
        "\n",
        "naive_prompt_5 = \"Is this transaction likely fraudulent? Transaction Details: {transaction}\"\n",
        "\n",
        "# execute_prompt(\n",
        "#     naive_prompt_5,\n",
        "#     \"3.1 Naive Fraud Analysis\",\n",
        "#     transaction=transaction_data_1\n",
        "# )"
      ],
      "outputs": [],
      "execution_count": null,
      "metadata": {
        "id": "5E6ngdLRL27f"
      }
    },
    {
      "cell_type": "markdown",
      "source": [
        "#### **Chain-of-Thought Prompt 👍**\n",
        "\n",
        "We explicitly ask the model to reason through the evidence step-by-step, providing a clear, auditable analysis."
      ],
      "metadata": {
        "id": "kliFKJmgL27f"
      }
    },
    {
      "cell_type": "code",
      "source": [
        "transaction_data_1 = \"\"\"\n",
        "- Customer: Anjali Rao\n",
        "- Usual Location: Bangalore, IN\n",
        "- Transaction Amount: ₹85,000\n",
        "- Transaction Location: Prague, CZ\n",
        "- Time: 3:15 AM IST\n",
        "- Merchant Category: Luxury Watches\n",
        "- Customer History: No prior international transactions. Average transaction value is ₹2,500.\n",
        "\"\"\"\n",
        "\n",
        "cot_prompt_1 = \"\"\"\n",
        "You are a fraud detection analyst. Analyze the following transaction details to determine if it is likely fraudulent.\n",
        "Let's think step by step to build your analysis before making a final conclusion.\n",
        "\n",
        "Transaction Details:\n",
        "{transaction}\n",
        "\n",
        "First, identify all the risk factors. For each factor, explain why it is suspicious.\n",
        "Second, summarize your findings.\n",
        "Finally, conclude with a risk assessment: LOW, MEDIUM, or HIGH.\n",
        "\"\"\"\n",
        "\n",
        "# execute_prompt(\n",
        "#     cot_prompt_1,\n",
        "#     \"3.1 Chain-of-Thought Fraud Analysis\",\n",
        "#     transaction=transaction_data_1\n",
        "# )"
      ],
      "outputs": [],
      "execution_count": null,
      "metadata": {
        "id": "gNCSjLjoL27f"
      }
    },
    {
      "cell_type": "markdown",
      "source": [
        "\n",
        "### **3.2. Chain-of-Thought (CoT): Evaluating a Small Business Loan**\n",
        "\n",
        "**Scenario:** A loan officer needs a quick, reasoned assessment of a small business loan application to decide if it warrants a full underwriting process."
      ],
      "metadata": {
        "id": "xDT5Qel4zJiZ"
      }
    },
    {
      "cell_type": "code",
      "source": [
        "loan_application_data = \"\"\"\n",
        "- Business Name: 'Global Exports Inc.'\n",
        "- Years in Business: 2\n",
        "- Annual Revenue: ₹75,00,000\n",
        "- Requested Loan Amount: ₹20,00,000\n",
        "- Owner's CIBIL Score: 680\n",
        "---\n",
        "Bank's Minimum Criteria:\n",
        "- Minimum Years in Business: 3\n",
        "- Minimum Annual Revenue: ₹50,00,000\n",
        "- Minimum CIBIL Score: 720\n",
        "\"\"\""
      ],
      "metadata": {
        "id": "xiDGiiVczNpP"
      },
      "execution_count": null,
      "outputs": []
    },
    {
      "cell_type": "markdown",
      "source": [
        "#### **Naive Prompt 👎**\n",
        "\n",
        "A direct question will yield a \"black box\" answer with minimal justification, making it hard to trust or audit."
      ],
      "metadata": {
        "id": "F00q0Br6zP4k"
      }
    },
    {
      "cell_type": "code",
      "source": [
        "naive_prompt_3 = \"Based on the data and criteria, should we approve a loan for Global Exports Inc.? \\n\\n{data}\"\n",
        "\n",
        "# execute_prompt(\n",
        "#     naive_prompt_3,\n",
        "#     \"3.1 Naive Loan Assessment\",\n",
        "#     data=loan_application_data\n",
        "# )"
      ],
      "metadata": {
        "id": "JqAnRv_QzQxL"
      },
      "execution_count": null,
      "outputs": []
    },
    {
      "cell_type": "markdown",
      "source": [
        "\n",
        "*Critique:* The answer is correct, but it lacks a structured breakdown of the decision process.\n",
        "\n",
        "#### **Improved CoT Prompt 👍**\n",
        "\n",
        "This prompt forces the model to perform a step-by-step analysis, comparing each application data point against the criteria before reaching a conclusion."
      ],
      "metadata": {
        "id": "bCgTU1aQzSqd"
      }
    },
    {
      "cell_type": "code",
      "source": [
        "cot_prompt_3 = \"\"\"\n",
        "You are a junior loan underwriter AI. Evaluate the small business loan application against the bank's criteria. Let's think step by step to create a clear evaluation report.\n",
        "\n",
        "Application Data and Criteria:\n",
        "{data}\n",
        "\n",
        "**Evaluation Process:**\n",
        "1.  **Check Years in Business:** Compare the applicant's years in business against the minimum requirement. State Pass or Fail.\n",
        "2.  **Check Annual Revenue:** Compare the applicant's revenue against the minimum requirement. State Pass or Fail.\n",
        "3.  **Check CIBIL Score:** Compare the owner's CIBIL score against the minimum requirement. State Pass or Fail.\n",
        "4.  **Summary of Findings:** Briefly list the strengths and weaknesses of the application.\n",
        "5.  **Final Recommendation:** Conclude with 'Proceed to Underwriting' or 'Reject'.\n",
        "\"\"\"\n",
        "\n",
        "# execute_prompt(\n",
        "#     cot_prompt_3,\n",
        "#     \"3.2 CoT Loan Assessment\",\n",
        "#     data=loan_application_data\n",
        "# )"
      ],
      "metadata": {
        "id": "Vfj8EJhazXAh"
      },
      "execution_count": null,
      "outputs": []
    },
    {
      "cell_type": "markdown",
      "source": [
        "\n",
        "*Critique:* The response is transparent, auditable, and provides a clear, well-supported rationale for the decision.\n"
      ],
      "metadata": {
        "id": "AZ1WoO-YzaA-"
      }
    },
    {
      "cell_type": "markdown",
      "source": [],
      "metadata": {
        "id": "9aj81Obtzaku"
      }
    },
    {
      "cell_type": "markdown",
      "source": [],
      "metadata": {
        "id": "cQEVVdqpza__"
      }
    },
    {
      "cell_type": "markdown",
      "source": [
        "-----\n",
        "\n",
        "## **4. Tree-of-Thought (ToT) Prompting: Exploring Multiple Paths**\n",
        "\n",
        "### **Background**\n",
        "\n",
        "**Tree-of-Thought (ToT)** is an advanced technique that generalizes Chain-of-Thought. Instead of just one linear reasoning path, ToT encourages the model to explore *multiple* different lines of reasoning (branches of a tree). It can then self-evaluate these paths and choose the most promising one to pursue.\n",
        "\n",
        "  * **How it works:** A full ToT implementation is complex and often requires an agentic framework with multiple LLM calls. However, we can simulate the *spirit* of ToT in a single prompt by asking the model to:\n",
        "    1.  **Generate** multiple potential solutions or viewpoints.\n",
        "    2.  **Evaluate** the pros and cons of each.\n",
        "    3.  **Select** the best option based on that evaluation.\n",
        "  * **Strengths:** Exceptionally powerful for complex problems with no single right answer, such as strategic planning, creative problem-solving, and generating robust recommendations.\n",
        "  * **Banking Use Cases:** Developing personalized financial plans for clients, creating customer retention strategies, brainstorming new product features, and formulating responses to complex regulatory inquiries.\n",
        "\n",
        "### **Use Case 4.1: Proposing a Client Investment Strategy**\n",
        "\n",
        "**Scenario:** A financial advisor needs to propose an investment strategy for a young client with a moderate risk appetite.\n",
        "\n",
        "#### **Naive Prompt 👎**\n",
        "\n",
        "This gives a generic, one-size-fits-all answer without considering alternatives or trade-offs."
      ],
      "metadata": {
        "id": "OPkjKwg7L27f"
      }
    },
    {
      "cell_type": "code",
      "source": [
        "client_profile_1 = \"\"\"\n",
        "- Name: Sameer Khan\n",
        "- Age: 28\n",
        "- Goal: Wealth accumulation for early retirement\n",
        "- Risk Tolerance: Moderate\n",
        "- Annual Income: ₹25,00,000\n",
        "\"\"\"\n",
        "\n",
        "naive_prompt_6 = \"Suggest an investment portfolio for this client: {profile}\"\n",
        "\n",
        "# execute_prompt(\n",
        "#     naive_prompt_6,\n",
        "#     \"4.1 Naive Investment Suggestion\",\n",
        "#     profile=client_profile_1\n",
        "# )"
      ],
      "outputs": [],
      "execution_count": null,
      "metadata": {
        "id": "lKvdVcQPL27f"
      }
    },
    {
      "cell_type": "markdown",
      "source": [
        "#### **\"ToT-style\" Prompt 👍**\n",
        "\n",
        "This prompt guides the model to explore and critique several strategies before making a final, well-justified recommendation."
      ],
      "metadata": {
        "id": "Vce2NlItL27f"
      }
    },
    {
      "cell_type": "code",
      "source": [
        "client_profile_1 = \"\"\"\n",
        "- Name: Sameer Khan\n",
        "- Age: 28\n",
        "- Goal: Wealth accumulation for early retirement\n",
        "- Risk Tolerance: Moderate\n",
        "- Annual Income: ₹25,00,000\n",
        "\"\"\"\n",
        "\n",
        "tot_prompt_1 = \"\"\"\n",
        "You are a senior investment strategist. Your task is to devise an investment strategy for a new client.\n",
        "Use the following structured thinking process:\n",
        "\n",
        "Client Profile:\n",
        "{profile}\n",
        "\n",
        "1.  **Propose Three Distinct Strategies:** Based on the client's profile, generate three different investment strategies. Name each one (e.g., 'Balanced Growth', 'Aggressive Tech Focus', 'Diversified Core'). For each, suggest a sample asset allocation (Equities, Debt, Alternatives).\n",
        "2.  **Evaluate Each Strategy:** For each of the three strategies, briefly list the potential Pros and Cons specifically for this client. Consider their age, goal, and risk tolerance.\n",
        "3.  **Recommend and Justify:** Based on your evaluation, select the single most suitable strategy for the client and write a concluding paragraph explaining why it is the best choice.\n",
        "\"\"\"\n",
        "\n",
        "# execute_prompt(\n",
        "#     tot_prompt_1,\n",
        "#     \"4.1 ToT-style Investment Strategy\",\n",
        "#     profile=client_profile_1\n",
        "# )"
      ],
      "outputs": [],
      "execution_count": null,
      "metadata": {
        "id": "-GqXkzgeL27f"
      }
    },
    {
      "cell_type": "markdown",
      "source": [
        "\n",
        "-----\n",
        "\n",
        "### **4.2. Tree-of-Thought (ToT): Devising a Debt Restructuring Plan**\n",
        "\n",
        "**Scenario:** A financial advisor is helping a client who is overwhelmed with multiple sources of debt. The goal is to propose and compare different concrete strategies for tackling the debt."
      ],
      "metadata": {
        "id": "CmDxDOZHzcbx"
      }
    },
    {
      "cell_type": "code",
      "source": [
        "client_debt_profile = \"\"\"\n",
        "- Client: Priya\n",
        "- Monthly Take-home Salary: ₹80,000\n",
        "- Monthly Expenses (non-debt): ₹45,000\n",
        "- Available for Debt Repayment: ₹35,000 per month\n",
        "- Debts:\n",
        "  1. Credit Card: ₹2,00,000 at 36% APR\n",
        "  2. Personal Loan: ₹5,00,000 at 14% APR\n",
        "  3. Car Loan: ₹3,00,000 at 9% APR\n",
        "\"\"\""
      ],
      "metadata": {
        "id": "M1CrgZr6ziE0"
      },
      "execution_count": null,
      "outputs": []
    },
    {
      "cell_type": "markdown",
      "source": [
        "#### **Naive Prompt 👎**\n",
        "\n",
        "This prompt will generate generic, non-comparative advice that isn't tailored into actionable, alternative strategies."
      ],
      "metadata": {
        "id": "mj4XtIGSzfvw"
      }
    },
    {
      "cell_type": "code",
      "source": [
        "naive_prompt_4 = \"How can this client manage their debt? \\n\\n{profile}\"\n",
        "\n",
        "# execute_prompt(\n",
        "#     naive_prompt_4,\n",
        "#     \"4.1 Naive Debt Advice\",\n",
        "#     profile=client_debt_profile\n",
        "# )"
      ],
      "metadata": {
        "id": "b-siU7vPzk4f"
      },
      "execution_count": null,
      "outputs": []
    },
    {
      "cell_type": "markdown",
      "source": [
        "*Critique:* The advice is sound but lacks structure and fails to explore or compare alternative, well-known strategies.\n",
        "\n",
        "#### **Improved \"ToT-style\" Prompt 👍**\n",
        "\n",
        "This prompt instructs the model to generate and evaluate multiple distinct strategies, presenting a comprehensive analysis of the options."
      ],
      "metadata": {
        "id": "ThO1_KgKzo0a"
      }
    },
    {
      "cell_type": "code",
      "source": [
        "tot_prompt_4 = \"\"\"\n",
        "You are an expert financial advisor. For the client profile below, devise a debt management plan using the following structured thinking process.\n",
        "\n",
        "Client Profile:\n",
        "{profile}\n",
        "\n",
        "1.  **Propose Three Distinct Strategies:** Generate three different debt repayment strategies. Name each one (e.g., 'Debt Avalanche', 'Debt Snowball', 'Loan Consolidation'). Briefly explain how each would work for this client.\n",
        "2.  **Evaluate Each Strategy:** For each of the three strategies, list the primary 'Pro' (e.g., lowest total interest paid) and the primary 'Con' (e.g., may feel slower) for this specific client.\n",
        "3.  **Recommend and Justify:** Based on your evaluation, select the single most suitable strategy and explain why it is the best recommendation for someone in this situation.\n",
        "\"\"\"\n",
        "\n",
        "# execute_prompt(\n",
        "#     tot_prompt_4,\n",
        "#     \"4.2 ToT-style Debt Plan\",\n",
        "#     profile=client_debt_profile\n",
        "# )"
      ],
      "metadata": {
        "id": "aDKDPUkTzrlB"
      },
      "execution_count": null,
      "outputs": []
    },
    {
      "cell_type": "markdown",
      "source": [
        "\n",
        "*Critique:* This response provides a strategic, multi-faceted analysis that empowers the client and advisor to make an informed decision based on clear trade-offs."
      ],
      "metadata": {
        "id": "wg-jDLVBzuEh"
      }
    }
  ],
  "metadata": {
    "colab": {
      "provenance": []
    },
    "kernelspec": {
      "display_name": "Python 3",
      "name": "python3"
    }
  },
  "nbformat": 4,
  "nbformat_minor": 0
}